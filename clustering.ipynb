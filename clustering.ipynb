{
 "cells": [
  {
   "cell_type": "markdown",
   "metadata": {},
   "source": [
    "Each task that is proposed to be completed as part of the homework has a declared \"price\" in points. The maximum possible amount is 10 points, and together with the bonus assignment - 12 points. It is not necessary to complete all the tasks, only a part can be done. Most of the points expect you to write working Python code; sometimes you will need to write comments - for example, to compare several approaches to solve the same problem. Also you can add more cells for your convenience if you need."
   ]
  },
  {
   "cell_type": "markdown",
   "metadata": {},
   "source": [
    "This homework focuses on clustering. We will work with images of handwritten digits, learn how to cluster them using two different methods (hierarchical clustering and the 𝐾-means algorithm), evaluate the quality of the partition and choose the optimal number of clusters, as well as visualize intermediate results."
   ]
  },
  {
   "cell_type": "code",
   "execution_count": 1,
   "metadata": {},
   "outputs": [],
   "source": [
    "from sklearn import datasets\n",
    "from sklearn.cluster import AgglomerativeClustering, KMeans\n",
    "from sklearn.metrics import silhouette_score, homogeneity_score, completeness_score\n",
    "from sklearn.decomposition import TruncatedSVD\n",
    "from sklearn.manifold import TSNE\n",
    "\n",
    "import matplotlib.pyplot as plt\n",
    "import numpy as np\n",
    "import pandas as pd"
   ]
  },
  {
   "cell_type": "markdown",
   "metadata": {},
   "source": [
    "## 1. Loading data\n",
    "The data we will be working with is available in the scikit-learn library (`sklearn` module) in the `datasets` submodule via the `load_digits` function. The data contains 1,797 observations, each of which is 8×8 pixel image of a handwritten digit from 0 to 9. This is about the same amount of each digit (about 180).\n",
    "\n",
    "For convenience, every image expands to a 64 (8×8) row, so entire numpy array is 1797×64. The color intensity in each pixel is encoded with an integer from 0 to 16.\n",
    "\n",
    "In addition to images, their labels are also known. In this task, we will assume that the labels (as well as their amount) are unknown and try to group the data in such a way that the resulting clusters 'better match' the original ones. Possible options for determining the 'better match' are presented later."
   ]
  },
  {
   "cell_type": "markdown",
   "metadata": {},
   "source": [
    "**(0.25 points)** Load the images into `X` variable, and their labels into `y` variable."
   ]
  },
  {
   "cell_type": "code",
   "execution_count": 2,
   "metadata": {},
   "outputs": [],
   "source": [
    "X, y = datasets.load_digits(return_X_y=True)"
   ]
  },
  {
   "cell_type": "code",
   "execution_count": 3,
   "metadata": {},
   "outputs": [],
   "source": [
    "assert X.shape == (1797, 64)\n",
    "assert y.shape == (1797,)"
   ]
  },
  {
   "cell_type": "markdown",
   "metadata": {},
   "source": [
    "**(0.5 points)** Visualize the first 10 images.\n",
    "\n",
    "- Arrange images on a grid rather than in a row. You may need the `subplot` and `imshow` functions from the `pyplot` module in the `matplotlib` library.\n",
    "- You will also need to reshape the images to 8×8.\n",
    "- Remove ticks and labels from both axes. The `xticks` and `yticks` functions or the `tick_params` function from `pyplot` can help you with this.\n",
    "- Make the output good sized with the `figure` function from `pyplot`."
   ]
  },
  {
   "cell_type": "code",
   "execution_count": 4,
   "metadata": {},
   "outputs": [
    {
     "data": {
      "image/png": "[encoded data removed]",
      "text/plain": [
       "<Figure size 1080x504 with 10 Axes>"
      ]
     },
     "metadata": {},
     "output_type": "display_data"
    }
   ],
   "source": [
    "fig, axs = plt.subplots(2, 5, figsize=(15, 7))\n",
    "for im_ctr in range(10):\n",
    "    row_ctr = int(im_ctr / 5)\n",
    "    col_ctr = im_ctr % 5\n",
    "    image = np.reshape(X[im_ctr, :], (8, 8))\n",
    "    axs[row_ctr, col_ctr].imshow(image)\n",
    "    axs[row_ctr, col_ctr].set_title(im_ctr)    \n",
    "    axs[row_ctr, col_ctr].set_xticks(ticks=[])\n",
    "    axs[row_ctr, col_ctr].set_yticks(ticks=[])"
   ]
  },
  {
   "cell_type": "markdown",
   "metadata": {},
   "source": [
    "## 2. Clustering and quality evaluation"
   ]
  },
  {
   "cell_type": "markdown",
   "metadata": {},
   "source": [
    "**(2 points)** Implement the the KMeans algorithm. Use objective function $L = \\sum_{i=1}^{n}|x_{i}-Z_{A(x_{i})}|^{2}$, where $Z_{A(x_{i})}$ is the center of the cluster corresponding to $x_{i}$ object."
   ]
  },
  {
   "cell_type": "code",
   "execution_count": 5,
   "metadata": {},
   "outputs": [],
   "source": [
    "from sklearn.exceptions import NotFittedError\n",
    "from numpy.random import RandomState"
   ]
  },
  {
   "cell_type": "code",
   "execution_count": 6,
   "metadata": {},
   "outputs": [],
   "source": [
    "class CustomKMeans:\n",
    "    def __init__(self, n_clusters=2, max_iter=30, n_init=10, random_state=42):\n",
    "        '''K-Means clustering.\n",
    "        \n",
    "        Args:\n",
    "            n_clusters: int, default=2\n",
    "                The number of clusters to be formed is also \n",
    "                the number of centroids to generate. \n",
    "            max_iter: int, default=300\n",
    "                Maximum number of iterations of the k-means algorithm for a\n",
    "                single run.\n",
    "            n_init: int, default=10\n",
    "                Number of time the k-means algorithm will be run with different\n",
    "                centroid seeds. The final results will be the best output of\n",
    "                n_init consecutive runs in terms of objective function.\n",
    "            random_state: int, default=42\n",
    "                Random state.\n",
    "        '''\n",
    "        self.n_clusters = n_clusters\n",
    "        self.n_init = n_init\n",
    "        self.max_iter = max_iter\n",
    "        self.random_state = RandomState(seed=random_state)\n",
    "        self.obj_fun = None\n",
    "        \n",
    "    def calculate_distances_to_centroids(self, X, cluster_centers):\n",
    "        \"\"\"\n",
    "        Returns (n, c) matrix where the element at position (i, j) \n",
    "        is the distance from i-th object to j-th centroid.\"\"\"\n",
    "        # <your code>\n",
    "        dist = np.zeros((X.shape[0], cluster_centers.shape[0]))\n",
    "        for k in range(cluster_centers.shape[0]):\n",
    "            dist[:, k] = np.linalg.norm(X - cluster_centers[k, :], axis=1)\n",
    "        \n",
    "        return dist\n",
    "    \n",
    "    def update_centroids(self, X, nearest_clusters):\n",
    "        \"\"\"\n",
    "        Returns numpy array of shape (n_clusters, n_features) - \n",
    "        new clusters that are found by averaging objects belonging \n",
    "        to the corresponding cluster.\"\"\"\n",
    "        new_clusters = np.zeros((self.n_clusters, X.shape[1]))\n",
    "        \n",
    "        for k in range(self.n_clusters):\n",
    "            cluster_points = X[nearest_clusters==k]\n",
    "            if len(cluster_points) != 0:\n",
    "                new_clusters[k, :] = np.mean(X[nearest_clusters==k], axis=0)\n",
    "\n",
    "        return new_clusters\n",
    "\n",
    "    def get_nearest_clusters(self, X, clusters):\n",
    "        dist_mtrx = self.calculate_distances_to_centroids(X, clusters)\n",
    "        nearest_clusters = np.argmin(dist_mtrx, axis=1)\n",
    "        return nearest_clusters\n",
    "        \n",
    "    def fit(self, X):\n",
    "        \"\"\"Fit the model.\n",
    "        \n",
    "        Args:\n",
    "            X: numpy array of shape (n_samples, n_features)\n",
    "        \"\"\"\n",
    "        assert X.shape[0] >= self.n_clusters\n",
    "        # <your code>\n",
    "        \n",
    "        self.obj_fun = None\n",
    "        \n",
    "        for init_ctr in range(self.n_init):\n",
    "            init_indxs = self.random_state.choice(X.shape[0], size=self.n_clusters)\n",
    "            cluster_centers = X[init_indxs, :]\n",
    "            \n",
    "            for iter_ctr in range(self.max_iter):\n",
    "                nearest_clusters = self.get_nearest_clusters(X, cluster_centers)\n",
    "                obj_fun = np.sum(np.abs(X-cluster_centers[nearest_clusters, :])**2)\n",
    "\n",
    "                if self.obj_fun is None or obj_fun < self.obj_fun:\n",
    "                    self.obj_fun = obj_fun\n",
    "                    self.cluster_centers_ = cluster_centers\n",
    "                    \n",
    "                cluster_centers_next = self.update_centroids(X, nearest_clusters)\n",
    "                if np.allclose(cluster_centers_next, cluster_centers): #выходим из цикла, когда центры устаканились\n",
    "                    break\n",
    "                    \n",
    "                cluster_centers = cluster_centers_next\n",
    "        \n",
    "        return self\n",
    "            \n",
    "    \n",
    "    def predict(self, X):\n",
    "        \"\"\"Predict classes.\n",
    "        \n",
    "        Args:\n",
    "            X: numpy array of shape (n_samples, n_features)\n",
    "        Returns:\n",
    "            y: numpy array of shape (n_samples,)\n",
    "                Vector containing predicted cluster labels.\n",
    "        \"\"\"\n",
    "        if hasattr(self, 'cluster_centers_'):\n",
    "            # <your code>\n",
    "            return self.get_nearest_clusters(X, self.cluster_centers_)\n",
    "            \n",
    "        else: \n",
    "            raise NotFittedError(\"CustomKMeans instance is not fitted yet\")"
   ]
  },
  {
   "cell_type": "markdown",
   "metadata": {},
   "source": [
    "**(1 points)** Get the `X` array partition into 10 clusters. Visualize the centers of clusters.\n",
    "- We will assume that the center of the cluster is average value of all observations belonging to the cluster.\n",
    "- The cluster centers should have the same shape as our observations (64). So you have to average the points across the rows."
   ]
  },
  {
   "cell_type": "code",
   "execution_count": 7,
   "metadata": {},
   "outputs": [],
   "source": [
    "k_means_model = CustomKMeans(n_clusters=10)\n",
    "k_means_model.fit(X)\n",
    "\n",
    "custom_kmeans_labels = k_means_model.predict(X)\n",
    "assert custom_kmeans_labels.shape == (1797,)"
   ]
  },
  {
   "cell_type": "code",
   "execution_count": 8,
   "metadata": {},
   "outputs": [],
   "source": [
    "def draw_centers_of_clusters(centers):\n",
    "    fig, axs = plt.subplots(2, 5, figsize=(15, 7))\n",
    "    for im_ctr in range(len(centers)):\n",
    "        row_ctr = int(im_ctr / 5)\n",
    "        col_ctr = im_ctr % 5\n",
    "        image = np.reshape(centers[im_ctr, :], (8, 8))\n",
    "        axs[row_ctr, col_ctr].imshow(image)\n",
    "        axs[row_ctr, col_ctr].set_title(f'cluster #{im_ctr}')    \n",
    "        axs[row_ctr, col_ctr].set_xticks(ticks=[])\n",
    "        axs[row_ctr, col_ctr].set_yticks(ticks=[])"
   ]
  },
  {
   "cell_type": "code",
   "execution_count": 9,
   "metadata": {},
   "outputs": [
    {
     "data": {
      "image/png": "[encoded data removed]",
      "text/plain": [
       "<Figure size 1080x504 with 10 Axes>"
      ]
     },
     "metadata": {},
     "output_type": "display_data"
    }
   ],
   "source": [
    "draw_centers_of_clusters(k_means_model.cluster_centers_)"
   ]
  },
  {
   "cell_type": "markdown",
   "metadata": {},
   "source": [
    "*С ума сойти, ему удалось (и это не сарказм, действительно впечатляет). В целом здорово - угадываются прям конкретные цифры, которые алгоритму удалось выделить! Немного замыленная 8-ка, но видимо для разделения этого достаточно*"
   ]
  },
  {
   "cell_type": "markdown",
   "metadata": {},
   "source": [
    "**(0.5 points)** Experiment with `max_iter` and `n_init` parameters. Look at the range of values of the objective function, it's best values, at what parameters and how often they are achieved."
   ]
  },
  {
   "cell_type": "code",
   "execution_count": 10,
   "metadata": {},
   "outputs": [],
   "source": [
    "max_iters = [1, 5, 10, 50, 100, 500]\n",
    "n_inits = [1, 5, 10, 50, 100, 500]\n",
    "obj_fun = np.zeros( (len(max_iters), len(n_inits)) )\n",
    "\n",
    "for max_iter_ctr in range(len(max_iters)):\n",
    "    for n_init_ctr in range(len(n_inits)):\n",
    "        k_means_model = CustomKMeans(n_clusters=10, max_iter=max_iters[max_iter_ctr], n_init=n_inits[n_init_ctr])\n",
    "        k_means_model.fit(X)\n",
    "        obj_fun[max_iter_ctr, n_init_ctr] = k_means_model.obj_fun"
   ]
  },
  {
   "cell_type": "code",
   "execution_count": 11,
   "metadata": {},
   "outputs": [
    {
     "data": {
      "image/png": "[encoded data removed]",
      "text/plain": [
       "<Figure size 432x288 with 1 Axes>"
      ]
     },
     "metadata": {
      "needs_background": "light"
     },
     "output_type": "display_data"
    }
   ],
   "source": [
    "for max_iter_ctr in range(len(max_iters)):\n",
    "    plt.plot(n_inits, obj_fun[max_iter_ctr], label=f'max_iter={max_iters[max_iter_ctr]}')\n",
    "    plt.xlabel('n_init')\n",
    "    plt.ylabel('objective')\n",
    "    plt.xscale('log')\n",
    "    plt.yscale('log')\n",
    "    \n",
    "plt.legend();"
   ]
  },
  {
   "cell_type": "markdown",
   "metadata": {},
   "source": [
    "# Выводы:\n",
    "* Objective function имеет практически одинаковый характер после **max_iter**=10 при разных *n_init*. В данной задаче видимо алгоритм сходится достаточно быстро.\n",
    "* Objective function замедляет спад примерно  \n",
    "    + Для *max_iter*=1 после **n_init**=50\n",
    "    + Для *max_iter*>=5 после **n_init**=10\n",
    "    \n",
    "В итоге для данной задачи оптимально взять *max_iter*=10 и *n_init*=10"
   ]
  },
  {
   "cell_type": "markdown",
   "metadata": {},
   "source": [
    "Now we will use two popular algorithms: hierarchical clustering and $K$-means clustering. These and other algorithms are available in the `scikit-learn` module in the `cluster` submodule. Hierarchical clustering is called `AgglomerativeClustering`, and the $K$-means method is called `KMeans`.\n",
    "\n",
    "**(0.5 points)** Use each of the two methods: hierarchical clustering and KMeans. Get the `X` array partition into 10 clusters.\n",
    "\n",
    "- Note that `AgglomerativeClustering` does not have a `predict` method, so you can either use the `fit_predict` method or use the `fit` method and then look at the `labels_` attribute of the class instance.\n",
    "- Kmeans performs multiple runs (default 10) with random centers and then returns the best partition in terms of average distance within the clusters. You can increase the number of runs to improve the quality of predictions in the `i_init` parameter."
   ]
  },
  {
   "cell_type": "code",
   "execution_count": 12,
   "metadata": {},
   "outputs": [],
   "source": [
    "hierarchical_model = AgglomerativeClustering(n_clusters=10)\n",
    "kmeans_model = KMeans(n_clusters=10, n_init=20) #n_init возьмём с запасом\n",
    "\n",
    "hierarchical_labels = hierarchical_model.fit_predict(X)\n",
    "kmeans_labels = kmeans_model.fit_predict(X)"
   ]
  },
  {
   "cell_type": "code",
   "execution_count": 13,
   "metadata": {},
   "outputs": [],
   "source": [
    "assert hierarchical_labels.shape == (1797,)\n",
    "assert kmeans_labels.shape == (1797,)"
   ]
  },
  {
   "cell_type": "markdown",
   "metadata": {},
   "source": [
    "**(0.5 points)** Visualize the centers of clusters obtained by both methods."
   ]
  },
  {
   "cell_type": "markdown",
   "metadata": {},
   "source": [
    "# Agglomerative Clustering centers of clusters"
   ]
  },
  {
   "cell_type": "code",
   "execution_count": 14,
   "metadata": {},
   "outputs": [],
   "source": [
    "hierarchical_centers = np.zeros((hierarchical_model.n_clusters_, X.shape[1]))\n",
    "for k in range(hierarchical_model.n_clusters_):\n",
    "    hierarchical_centers[k, :] = np.mean(X[hierarchical_labels==k], axis=0)"
   ]
  },
  {
   "cell_type": "code",
   "execution_count": 15,
   "metadata": {},
   "outputs": [
    {
     "data": {
      "image/png": "[encoded data removed]",
      "text/plain": [
       "<Figure size 1080x504 with 10 Axes>"
      ]
     },
     "metadata": {},
     "output_type": "display_data"
    }
   ],
   "source": [
    "draw_centers_of_clusters(hierarchical_centers)\n",
    "plt.suptitle('Hierarchical', fontweight='bold');"
   ]
  },
  {
   "cell_type": "markdown",
   "metadata": {},
   "source": [
    "# K-Means Clustering centers of clusters"
   ]
  },
  {
   "cell_type": "code",
   "execution_count": 16,
   "metadata": {},
   "outputs": [
    {
     "data": {
      "image/png": "[encoded data removed]",
      "text/plain": [
       "<Figure size 1080x504 with 10 Axes>"
      ]
     },
     "metadata": {},
     "output_type": "display_data"
    }
   ],
   "source": [
    "draw_centers_of_clusters(kmeans_model.cluster_centers_)\n",
    "plt.suptitle('K-Means', fontweight='bold');"
   ]
  },
  {
   "cell_type": "markdown",
   "metadata": {},
   "source": [
    "In a situation where the true number of classes is unknown, we can select it by maximazing some metric.\n",
    "\n",
    "When we can set some distance function between our observations, we can consider the `silhouette` distance as a function of measuring the quality of the clustering. Let's show how it is calculated:"
   ]
  },
  {
   "cell_type": "markdown",
   "metadata": {},
   "source": [
    "Let $X$ – set of observations, $M \\subset X$ – one of the clusters obtained as a result of clustering process, $\\rho$ – some metric on $X$. Let's choose one observation $x \\in M$. Denote $a(x)$ as the average distance from $x$ to  $x'$ points from the same cluster:\n",
    "$$\n",
    "a(x) = \\frac{1}{|M| - 1} \\sum_{x' \\in M,\\, x' \\ne x} \\rho(x,\\, x')\n",
    "$$\n",
    "\n",
    "Denote $b(x)$ as minimun of average distances from $x$ to $x''$ from some other cluster $N$:\n",
    "$$\n",
    "b(x) = \\min_{N \\ne M} \\frac{1}{|N|} \\sum_{x'' \\in N} \\rho(x,\\, x'')\n",
    "$$\n",
    "\n",
    "The silhouette is difference between a(x) and b(x), normalized to $[-1, \\, 1]$ and averaged over all observations:\n",
    "$$\n",
    "\\frac{1}{|X|} \\sum_{x \\in X} \\frac{b(x) - a(x)}{\\max(a(x),\\, b(x))}\n",
    "$$\n",
    "\n",
    "The implementation of this metric in the `scikit-learn` is the `silhouette_score` function from the `metrics` submidule."
   ]
  },
  {
   "cell_type": "markdown",
   "metadata": {},
   "source": [
    "**(0.75 point)** For each $K$ between 2 and 20 inclusive, partition of the array $X$ into $K$ clusters using both methods. Calculate the silhouette score and visualize it for both methods on the same plot ($K$ on the $x$ axis and silhouette score on the $y$ axis). Sign the axes and make a legend."
   ]
  },
  {
   "cell_type": "code",
   "execution_count": 17,
   "metadata": {},
   "outputs": [],
   "source": [
    "def plot_clustering_metrics(x, hierarchical_scores, kmeans_scores, xlabel, ylabel):\n",
    "    plt.plot(x, hierarchical_scores, label='hierarchical')\n",
    "    plt.plot(x, kmeans_scores, label='kmeans')\n",
    "    plt.xlabel(xlabel)\n",
    "    plt.ylabel(ylabel)\n",
    "    plt.axvline(x[np.argmax(hierarchical_scores)], color='C1', lw=5, alpha=0.2, label='hierarchical max')\n",
    "    plt.axvline(x[np.argmax(kmeans_scores)], color='C2', lw=5, alpha=0.2, label='kmeans max')\n",
    "    plt.legend();"
   ]
  },
  {
   "cell_type": "code",
   "execution_count": 18,
   "metadata": {},
   "outputs": [
    {
     "data": {
      "image/png": "[encoded data removed]",
      "text/plain": [
       "<Figure size 432x288 with 1 Axes>"
      ]
     },
     "metadata": {
      "needs_background": "light"
     },
     "output_type": "display_data"
    }
   ],
   "source": [
    "K_space = np.linspace(2, 20, 19, dtype=np.int32)\n",
    "hierarchical_scores = np.zeros(len(K_space))\n",
    "kmeans_scores = np.zeros(len(K_space))\n",
    "\n",
    "for K_ctr in range(len(K_space)):\n",
    "    K = K_space[K_ctr]\n",
    "    hierarchical_model = AgglomerativeClustering(n_clusters=K)\n",
    "    kmeans_model = KMeans(n_clusters=K, random_state=42)\n",
    "\n",
    "    hierarchical_labels = hierarchical_model.fit_predict(X)\n",
    "    kmeans_labels = kmeans_model.fit_predict(X)\n",
    "    \n",
    "    hierarchical_scores[K_ctr] = silhouette_score(X, hierarchical_labels)\n",
    "    kmeans_scores[K_ctr] = silhouette_score(X, kmeans_labels)\n",
    "    \n",
    "plot_clustering_metrics(K_space, hierarchical_scores, kmeans_scores, 'K clusters', 'Silhouette Score')"
   ]
  },
  {
   "cell_type": "markdown",
   "metadata": {},
   "source": [
    "Метрика Silhouette максимизируется при кол-ве кластеров=9 для обоих подходов к кластеризации, похоже это из-за того, что не получается отличить 1 от 8"
   ]
  },
  {
   "cell_type": "markdown",
   "metadata": {},
   "source": [
    "When we know the true clustering labels, the clustering result can be compared to them using measures such as `homogeneity`, `completeness` and their harmonic mean - $V$-score. The definitions of these quantities are rather bulky and are based on the [entropy of the probability distribution](https://ru.wikipedia.org/wiki/Информационная_энтропия). Details are given in [this article](http://aclweb.org/anthology/D/D07/D07-1043.pdf). In practice, it's enough to know that `homogeneity`, `completeness` and $V$-score are in the range from 0 and 1, and the more, the better.\n",
    "\n",
    "Since we know what digit each image is (`y` array), we can compare the clustering results to it using the measures listed above."
   ]
  },
  {
   "cell_type": "markdown",
   "metadata": {},
   "source": [
    "**(0.5 points)** Repeat the previous task using $V$-measure instead of silhouette."
   ]
  },
  {
   "cell_type": "code",
   "execution_count": 19,
   "metadata": {},
   "outputs": [],
   "source": [
    "def calculate_v_measure(labels_true, labels_pred):\n",
    "    homogeneity = homogeneity_score(labels_true, labels_pred)\n",
    "    completeness = completeness_score(labels_true, labels_pred)\n",
    "    return 2*homogeneity*completeness/(homogeneity+completeness)"
   ]
  },
  {
   "cell_type": "code",
   "execution_count": 20,
   "metadata": {},
   "outputs": [
    {
     "data": {
      "image/png": "[encoded data removed]",
      "text/plain": [
       "<Figure size 432x288 with 1 Axes>"
      ]
     },
     "metadata": {
      "needs_background": "light"
     },
     "output_type": "display_data"
    }
   ],
   "source": [
    "K_space = np.linspace(2, 20, 19, dtype=np.int32)\n",
    "hierarchical_vmeas = np.zeros(len(K_space))\n",
    "kmeans_vmeas = np.zeros(len(K_space))\n",
    "\n",
    "for K_ctr in range(len(K_space)):\n",
    "    K = K_space[K_ctr]\n",
    "    hierarchical_model = AgglomerativeClustering(n_clusters=K)\n",
    "    kmeans_model = KMeans(n_clusters=K, random_state=42)\n",
    "\n",
    "    hierarchical_labels = hierarchical_model.fit_predict(X)\n",
    "    kmeans_labels = kmeans_model.fit_predict(X)\n",
    "    \n",
    "    hierarchical_vmeas[K_ctr] = calculate_v_measure(y, hierarchical_labels)\n",
    "    kmeans_vmeas[K_ctr] = calculate_v_measure(y, kmeans_labels)\n",
    "    \n",
    "plot_clustering_metrics(K_space, hierarchical_vmeas, kmeans_vmeas, 'K clusters', 'V-measure')"
   ]
  },
  {
   "cell_type": "markdown",
   "metadata": {},
   "source": [
    "После 10 кластеров среднее гармоническое однородности и полноты выходит в насыщение, оптимальный выбор - 10 кластеров для минимизации ошибок 1го и 2го рода"
   ]
  },
  {
   "cell_type": "markdown",
   "metadata": {},
   "source": [
    "## 3. Feature space dimensionality reduction\n",
    "\n",
    "In some cases, especially when there are a large number of features, when not all of them are informative, and some of them are correlated, it can be useful to reduce the dimension of the feature space. This mean that instead of $d$ original features, we will go to $d'\\ll d$ new ones. And if earlier our data were presented in the form of an $n×d$ matrix, then it will presented as a $n×d'$.\n",
    "\n",
    "There are two popular dimensionality reduction approaches:\n",
    "- select new features from existing features;\n",
    "- extract the new features by transforming old ones, for example, by making $d'$ different linear combinations of columns of an $n×d$ matrix.\n",
    "\n",
    "One widely used dimensionality reduction technique is the Singular Value Decomposition (SVD). This method allows you to construct any number $d'\\leq d$ of new features in such a way that they are the most informative (in some sense).\n",
    "\n",
    "The `scikit-learn` module has several implementations of singular value decomposition. We will use the `TruncatedSVD` class from the `decomposition` submodule.\n",
    "\n",
    "**Note:** The singular value decomposition of the matrix $M$ is usually written as $M=U \\Sigma V^{*}$. `TruncatedSVD`, in turn, returns only the $d'$ first columns of the matrix $U$."
   ]
  },
  {
   "cell_type": "markdown",
   "metadata": {},
   "source": [
    "**(0.75 point)** Perform a singular value decomposition of the $X$ matrix, leaving 2, 5, 10, 20 features. In each case, perform hierarchical clustering and $K$-Means clustering (take the number of clusters equal to 10). Calculate the silhouette and $V$-score and compare them to corresponding values obtained from the original data.\n",
    "\n",
    "**Note**: It is not valid to compare the silhouette calculated with different metrics. Even if we use the same metric function when calculating the distance between points in the data, after applying dimensionality reduction or other data transformations, we will (not always) get different silhouette scores. Therefore, after training the clustering algorithm, to compare the result of clustering, you need to calculate the silhouette on the original data."
   ]
  },
  {
   "cell_type": "code",
   "execution_count": 21,
   "metadata": {},
   "outputs": [
    {
     "data": {
      "image/png": "[encoded data removed]",
      "text/plain": [
       "<Figure size 432x288 with 1 Axes>"
      ]
     },
     "metadata": {
      "needs_background": "light"
     },
     "output_type": "display_data"
    },
    {
     "data": {
      "image/png": "[encoded data removed]",
      "text/plain": [
       "<Figure size 432x288 with 1 Axes>"
      ]
     },
     "metadata": {
      "needs_background": "light"
     },
     "output_type": "display_data"
    }
   ],
   "source": [
    "n_features = [2, 5, 10, 20]\n",
    "n_clusters = 10\n",
    "hierarchical_model = AgglomerativeClustering(n_clusters=n_clusters)\n",
    "kmeans_model = KMeans(n_clusters=n_clusters, random_state=42)\n",
    "\n",
    "hierarchical_vmeas = np.zeros(len(n_features))\n",
    "kmeans_vmeas = np.zeros(len(n_features))\n",
    "hierarchical_silhouette = np.zeros(len(n_features))\n",
    "kmeans_silhouette = np.zeros(len(n_features))\n",
    "\n",
    "for n_features_ctr in range(len(n_features)):\n",
    "    tSVD = TruncatedSVD(n_components=n_features[n_features_ctr], random_state=42)\n",
    "    X_red = tSVD.fit_transform(X)\n",
    "    \n",
    "    hierarchical_labels = hierarchical_model.fit_predict(X_red)\n",
    "    kmeans_labels = kmeans_model.fit_predict(X_red)\n",
    "\n",
    "    hierarchical_silhouette[n_features_ctr] = silhouette_score(X, hierarchical_labels)\n",
    "    kmeans_silhouette[n_features_ctr] = silhouette_score(X, kmeans_labels)\n",
    "    \n",
    "    hierarchical_vmeas[n_features_ctr] = calculate_v_measure(y, hierarchical_labels)\n",
    "    kmeans_vmeas[n_features_ctr] = calculate_v_measure(y, kmeans_labels)\n",
    "\n",
    "plt.figure(1)\n",
    "plot_clustering_metrics(n_features, hierarchical_silhouette, kmeans_silhouette, 'N features', 'Silhouette score')\n",
    "plt.suptitle('TruncatedSVD');\n",
    "\n",
    "plt.figure(2)\n",
    "plot_clustering_metrics(n_features, hierarchical_vmeas, kmeans_vmeas, 'N features', 'V-measure')\n",
    "plt.suptitle('TruncatedSVD');"
   ]
  },
  {
   "cell_type": "markdown",
   "metadata": {},
   "source": [
    "Another popular dimensionality reduction approach that is useful for working with images is t-distributed stochastic neighbor embeddings, abbreviated `tSNE`. Unlike singular value decomposition, this it is non-linear transformation. It's main idea is to map points from a space of dimension `d` to another space of dimension 2 or 3 in such a way that the distances between points are mostly preserved. Mathematical details can be found, for example, [here](https://en.wikipedia.org/wiki/T-distributed_stochastic_neighbor_embedding).\n",
    "\n",
    "The implementation of `tSNE` in the `scikit-learn` library is the `TSNE` class in the `manifold` submodule.\n",
    "\n",
    "**Note:** In recent years [UMAP](https://github.com/lmcinnes/umap) is often used istead of `tSNE`. It is a faster algorithm with similar properties. We don't ask you to use `UMAP` because it requires you to install another dependency, the `umap-learn` library. Those who wish can perform the following task using `UMAP`."
   ]
  },
  {
   "cell_type": "markdown",
   "metadata": {},
   "source": [
    "**(0.5 points)** Perform a tSNE-transform of the `X` matrix, leaving 2 features. Visualize the obtained data in the form of a scatter plot form: the first feature on the horizontal axis, and the second one the vertical axis. Color the points according to the digits they belong to.\n",
    "\n",
    "- The `c` parameter in the plt.scatter function is responsible for the color of the points. Pass the true labels to it."
   ]
  },
  {
   "cell_type": "code",
   "execution_count": 22,
   "metadata": {},
   "outputs": [
    {
     "name": "stderr",
     "output_type": "stream",
     "text": [
      "C:\\Users\\filin\\AppData\\Local\\Programs\\Python\\Python38\\lib\\site-packages\\sklearn\\manifold\\_t_sne.py:780: FutureWarning: The default initialization in TSNE will change from 'random' to 'pca' in 1.2.\n",
      "  warnings.warn(\n",
      "C:\\Users\\filin\\AppData\\Local\\Programs\\Python\\Python38\\lib\\site-packages\\sklearn\\manifold\\_t_sne.py:790: FutureWarning: The default learning rate in TSNE will change from 200.0 to 'auto' in 1.2.\n",
      "  warnings.warn(\n"
     ]
    },
    {
     "data": {
      "text/plain": [
       "Text(0.5, 1.0, 'tSNE reduced features')"
      ]
     },
     "execution_count": 22,
     "metadata": {},
     "output_type": "execute_result"
    },
    {
     "data": {
      "image/png": "[encoded data removed]",
      "text/plain": [
       "<Figure size 432x288 with 1 Axes>"
      ]
     },
     "metadata": {
      "needs_background": "light"
     },
     "output_type": "display_data"
    }
   ],
   "source": [
    "tSNE = TSNE(n_components=2, random_state=42) #, init='pca', learning_rate='auto'\n",
    "X_red = tSNE.fit_transform(X)\n",
    "plt.scatter(x=X_red[:, 0], y=X_red[:, 1], c=y)\n",
    "plt.xlabel('1st feature')\n",
    "plt.xlabel('2nd feature')\n",
    "plt.title('tSNE reduced features')"
   ]
  },
  {
   "cell_type": "markdown",
   "metadata": {},
   "source": [
    "**(0.5 points)** From the data transformed using the tSNE, perform hierarchical clustering and $K$-means clustering (take the number of clusters equal to 10). Calculate the silhouette and the $V$-score and compare them to corresponding values obtained from the original data."
   ]
  },
  {
   "cell_type": "code",
   "execution_count": 23,
   "metadata": {},
   "outputs": [
    {
     "data": {
      "text/html": [
       "<div>\n",
       "<style scoped>\n",
       "    .dataframe tbody tr th:only-of-type {\n",
       "        vertical-align: middle;\n",
       "    }\n",
       "\n",
       "    .dataframe tbody tr th {\n",
       "        vertical-align: top;\n",
       "    }\n",
       "\n",
       "    .dataframe thead th {\n",
       "        text-align: right;\n",
       "    }\n",
       "</style>\n",
       "<table border=\"1\" class=\"dataframe\">\n",
       "  <thead>\n",
       "    <tr style=\"text-align: right;\">\n",
       "      <th></th>\n",
       "      <th>Full</th>\n",
       "      <th>Reduced</th>\n",
       "    </tr>\n",
       "  </thead>\n",
       "  <tbody>\n",
       "    <tr>\n",
       "      <th>Silhouette Score Hierarchical</th>\n",
       "      <td>0.178497</td>\n",
       "      <td>0.164145</td>\n",
       "    </tr>\n",
       "    <tr>\n",
       "      <th>Silhouette Score KMeans</th>\n",
       "      <td>0.182443</td>\n",
       "      <td>0.162783</td>\n",
       "    </tr>\n",
       "    <tr>\n",
       "      <th>V-Score Hierarchical</th>\n",
       "      <td>0.868170</td>\n",
       "      <td>0.920765</td>\n",
       "    </tr>\n",
       "    <tr>\n",
       "      <th>V-Score KMeans</th>\n",
       "      <td>0.741468</td>\n",
       "      <td>0.912037</td>\n",
       "    </tr>\n",
       "  </tbody>\n",
       "</table>\n",
       "</div>"
      ],
      "text/plain": [
       "                                   Full   Reduced\n",
       "Silhouette Score Hierarchical  0.178497  0.164145\n",
       "Silhouette Score KMeans        0.182443  0.162783\n",
       "V-Score Hierarchical           0.868170  0.920765\n",
       "V-Score KMeans                 0.741468  0.912037"
      ]
     },
     "execution_count": 23,
     "metadata": {},
     "output_type": "execute_result"
    }
   ],
   "source": [
    "n_clusters = 10\n",
    "hierarchical_model = AgglomerativeClustering(n_clusters=n_clusters)\n",
    "kmeans_model = KMeans(n_clusters=n_clusters, random_state=42)\n",
    "hierarchical_model_red = AgglomerativeClustering(n_clusters=n_clusters)\n",
    "kmeans_model_red = KMeans(n_clusters=n_clusters, random_state=42)\n",
    "\n",
    "scores = np.zeros(shape=(4, 2))\n",
    "\n",
    "hierarchical_labels = hierarchical_model.fit_predict(X)\n",
    "kmeans_labels = kmeans_model.fit_predict(X)\n",
    "scores[0, 0] = silhouette_score(X, hierarchical_labels)\n",
    "scores[1, 0] = silhouette_score(X, kmeans_labels)\n",
    "scores[2, 0] = calculate_v_measure(y, hierarchical_labels)\n",
    "scores[3, 0] = calculate_v_measure(y, kmeans_labels)\n",
    "\n",
    "hierarchical_labels_red = hierarchical_model_red.fit_predict(X_red)\n",
    "kmeans_labels_red = kmeans_model_red.fit_predict(X_red)\n",
    "scores[0, 1] = silhouette_score(X, hierarchical_labels_red)\n",
    "scores[1, 1] = silhouette_score(X, kmeans_labels_red)\n",
    "scores[2, 1] = calculate_v_measure(y, hierarchical_labels_red)\n",
    "scores[3, 1] = calculate_v_measure(y, kmeans_labels_red)\n",
    "\n",
    "pd.DataFrame(data=scores, columns=['Full', 'Reduced'], index=['Silhouette Score Hierarchical', 'Silhouette Score KMeans', 'V-Score Hierarchical', 'V-Score KMeans'])"
   ]
  },
  {
   "cell_type": "markdown",
   "metadata": {},
   "source": [
    "**(0.25 points)** Choose the best partition (in terms of silhouette or $V$-score) and visualize the centers of clusters with images. Did you managed to make each digit correspond to one center of the cluster?"
   ]
  },
  {
   "cell_type": "markdown",
   "metadata": {},
   "source": [
    "# Best by Silhouette"
   ]
  },
  {
   "cell_type": "code",
   "execution_count": 24,
   "metadata": {},
   "outputs": [
    {
     "data": {
      "image/png": "[encoded data removed]",
      "text/plain": [
       "<Figure size 1080x504 with 10 Axes>"
      ]
     },
     "metadata": {},
     "output_type": "display_data"
    }
   ],
   "source": [
    "draw_centers_of_clusters(kmeans_model.cluster_centers_)\n",
    "plt.suptitle('Best by Silhouette', fontweight='bold');"
   ]
  },
  {
   "cell_type": "markdown",
   "metadata": {},
   "source": [
    "# Best by V-Score"
   ]
  },
  {
   "cell_type": "code",
   "execution_count": 25,
   "metadata": {},
   "outputs": [
    {
     "data": {
      "image/png": "[encoded data removed]",
      "text/plain": [
       "<Figure size 1080x504 with 10 Axes>"
      ]
     },
     "metadata": {},
     "output_type": "display_data"
    }
   ],
   "source": [
    "hierarchical_centers = np.zeros((hierarchical_model_red.n_clusters_, X.shape[1]))\n",
    "for k in range(hierarchical_model_red.n_clusters_):\n",
    "    hierarchical_centers[k, :] = np.mean(X[hierarchical_labels==k], axis=0)\n",
    "\n",
    "draw_centers_of_clusters(hierarchical_centers)\n",
    "plt.suptitle('Best by V-Score', fontweight='bold');"
   ]
  },
  {
   "cell_type": "markdown",
   "metadata": {},
   "source": [
    "## 4. Results and bonus part"
   ]
  },
  {
   "cell_type": "markdown",
   "metadata": {},
   "source": [
    "Write in free form what conclusions you made after completing this assignment. Answer the following questions:\n",
    "\n",
    "**(0.5 points)** Which algorithm gives more meaningful results - hierarchical clustering or $K$- means clustering. Does it depend on the algorithm settings or on the quality evaluation method?"
   ]
  },
  {
   "cell_type": "markdown",
   "metadata": {},
   "source": [
    "Сложно сказать однозначно какой из алгоритмов лучше. По метрике Silhouette выходит лучше K-Means, а по метрике V-Score лучше иерархическая кластеризация. Судя по всему, иерархическая кластеризация даёт более \"чистые\" разбиения в кластерах, чем K-means. Однако K-means обеспечивает такие центры кластеров, при которых точки кластера хорошо отделены от точек других кластеров именно по расстоянию."
   ]
  },
  {
   "cell_type": "markdown",
   "metadata": {},
   "source": [
    "**(0.5 points)** Imagine the situation where after hierarchical clustering, you need to cluster new data in the same way without retraining the model. Suggest a method how you will do it and how you will measure the quality of clustering of new data."
   ]
  },
  {
   "cell_type": "markdown",
   "metadata": {},
   "source": [
    "В целом после иерархической кластеризации можно взять метки точек (принадлежности к тому или иному кластеру) и усреднить точки каждого кластера, получить центры и отнести точку к кластеру, центр которого ближе всего к ней"
   ]
  },
  {
   "cell_type": "markdown",
   "metadata": {},
   "source": [
    "**(0.5 points)** Does dimensionality reduction improve clustering results?"
   ]
  },
  {
   "cell_type": "markdown",
   "metadata": {},
   "source": [
    "Да, уменьшение размерности даёт хороший результат в данном случае при критерии качества V-Score. Уменьшение размерности позволяет более качественно сгруппировать точки в кластеры и достичь более высоких значений однородности и полноты"
   ]
  },
  {
   "cell_type": "markdown",
   "metadata": {},
   "source": [
    "**(0.5 points)** How to evaluate the quality of dimensional reduction? Suggest at least 2 options."
   ]
  },
  {
   "cell_type": "markdown",
   "metadata": {},
   "source": [
    "Не уверена, правильно ли я поняла вопрос, но в течение работы мы в принципе оценивали качество кластеризации (в том числе и при понижении размерности) с помощью:\n",
    "* Silhouette score\n",
    "* V-Score"
   ]
  },
  {
   "cell_type": "markdown",
   "metadata": {},
   "source": [
    "**(Bonus 2 points)** Load the [MNIST Handwritten Digits](http://yann.lecun.com/exdb/mnist) dataset. You can also do it with `scikit-learn` as explained [here](https://stackoverflow.com/a/60450028). Explore the data and try to cluster it using different approaches. Compare results of these approaches using the silhouette and the $V$-score."
   ]
  },
  {
   "cell_type": "code",
   "execution_count": 26,
   "metadata": {},
   "outputs": [],
   "source": [
    "X, y = datasets.fetch_openml('mnist_784', version=1, return_X_y=True)"
   ]
  },
  {
   "cell_type": "code",
   "execution_count": 27,
   "metadata": {},
   "outputs": [
    {
     "data": {
      "text/plain": [
       "(70000, 784)"
      ]
     },
     "execution_count": 27,
     "metadata": {},
     "output_type": "execute_result"
    }
   ],
   "source": [
    "X.shape"
   ]
  },
  {
   "cell_type": "markdown",
   "metadata": {},
   "source": [
    "Капец тут фич..."
   ]
  },
  {
   "cell_type": "code",
   "execution_count": 28,
   "metadata": {},
   "outputs": [
    {
     "data": {
      "text/html": [
       "<div>\n",
       "<style scoped>\n",
       "    .dataframe tbody tr th:only-of-type {\n",
       "        vertical-align: middle;\n",
       "    }\n",
       "\n",
       "    .dataframe tbody tr th {\n",
       "        vertical-align: top;\n",
       "    }\n",
       "\n",
       "    .dataframe thead th {\n",
       "        text-align: right;\n",
       "    }\n",
       "</style>\n",
       "<table border=\"1\" class=\"dataframe\">\n",
       "  <thead>\n",
       "    <tr style=\"text-align: right;\">\n",
       "      <th></th>\n",
       "      <th>pixel1</th>\n",
       "      <th>pixel2</th>\n",
       "      <th>pixel3</th>\n",
       "      <th>pixel4</th>\n",
       "      <th>pixel5</th>\n",
       "      <th>pixel6</th>\n",
       "      <th>pixel7</th>\n",
       "      <th>pixel8</th>\n",
       "      <th>pixel9</th>\n",
       "      <th>pixel10</th>\n",
       "      <th>...</th>\n",
       "      <th>pixel775</th>\n",
       "      <th>pixel776</th>\n",
       "      <th>pixel777</th>\n",
       "      <th>pixel778</th>\n",
       "      <th>pixel779</th>\n",
       "      <th>pixel780</th>\n",
       "      <th>pixel781</th>\n",
       "      <th>pixel782</th>\n",
       "      <th>pixel783</th>\n",
       "      <th>pixel784</th>\n",
       "    </tr>\n",
       "  </thead>\n",
       "  <tbody>\n",
       "    <tr>\n",
       "      <th>0</th>\n",
       "      <td>0.0</td>\n",
       "      <td>0.0</td>\n",
       "      <td>0.0</td>\n",
       "      <td>0.0</td>\n",
       "      <td>0.0</td>\n",
       "      <td>0.0</td>\n",
       "      <td>0.0</td>\n",
       "      <td>0.0</td>\n",
       "      <td>0.0</td>\n",
       "      <td>0.0</td>\n",
       "      <td>...</td>\n",
       "      <td>0.0</td>\n",
       "      <td>0.0</td>\n",
       "      <td>0.0</td>\n",
       "      <td>0.0</td>\n",
       "      <td>0.0</td>\n",
       "      <td>0.0</td>\n",
       "      <td>0.0</td>\n",
       "      <td>0.0</td>\n",
       "      <td>0.0</td>\n",
       "      <td>0.0</td>\n",
       "    </tr>\n",
       "    <tr>\n",
       "      <th>1</th>\n",
       "      <td>0.0</td>\n",
       "      <td>0.0</td>\n",
       "      <td>0.0</td>\n",
       "      <td>0.0</td>\n",
       "      <td>0.0</td>\n",
       "      <td>0.0</td>\n",
       "      <td>0.0</td>\n",
       "      <td>0.0</td>\n",
       "      <td>0.0</td>\n",
       "      <td>0.0</td>\n",
       "      <td>...</td>\n",
       "      <td>0.0</td>\n",
       "      <td>0.0</td>\n",
       "      <td>0.0</td>\n",
       "      <td>0.0</td>\n",
       "      <td>0.0</td>\n",
       "      <td>0.0</td>\n",
       "      <td>0.0</td>\n",
       "      <td>0.0</td>\n",
       "      <td>0.0</td>\n",
       "      <td>0.0</td>\n",
       "    </tr>\n",
       "    <tr>\n",
       "      <th>2</th>\n",
       "      <td>0.0</td>\n",
       "      <td>0.0</td>\n",
       "      <td>0.0</td>\n",
       "      <td>0.0</td>\n",
       "      <td>0.0</td>\n",
       "      <td>0.0</td>\n",
       "      <td>0.0</td>\n",
       "      <td>0.0</td>\n",
       "      <td>0.0</td>\n",
       "      <td>0.0</td>\n",
       "      <td>...</td>\n",
       "      <td>0.0</td>\n",
       "      <td>0.0</td>\n",
       "      <td>0.0</td>\n",
       "      <td>0.0</td>\n",
       "      <td>0.0</td>\n",
       "      <td>0.0</td>\n",
       "      <td>0.0</td>\n",
       "      <td>0.0</td>\n",
       "      <td>0.0</td>\n",
       "      <td>0.0</td>\n",
       "    </tr>\n",
       "    <tr>\n",
       "      <th>3</th>\n",
       "      <td>0.0</td>\n",
       "      <td>0.0</td>\n",
       "      <td>0.0</td>\n",
       "      <td>0.0</td>\n",
       "      <td>0.0</td>\n",
       "      <td>0.0</td>\n",
       "      <td>0.0</td>\n",
       "      <td>0.0</td>\n",
       "      <td>0.0</td>\n",
       "      <td>0.0</td>\n",
       "      <td>...</td>\n",
       "      <td>0.0</td>\n",
       "      <td>0.0</td>\n",
       "      <td>0.0</td>\n",
       "      <td>0.0</td>\n",
       "      <td>0.0</td>\n",
       "      <td>0.0</td>\n",
       "      <td>0.0</td>\n",
       "      <td>0.0</td>\n",
       "      <td>0.0</td>\n",
       "      <td>0.0</td>\n",
       "    </tr>\n",
       "    <tr>\n",
       "      <th>4</th>\n",
       "      <td>0.0</td>\n",
       "      <td>0.0</td>\n",
       "      <td>0.0</td>\n",
       "      <td>0.0</td>\n",
       "      <td>0.0</td>\n",
       "      <td>0.0</td>\n",
       "      <td>0.0</td>\n",
       "      <td>0.0</td>\n",
       "      <td>0.0</td>\n",
       "      <td>0.0</td>\n",
       "      <td>...</td>\n",
       "      <td>0.0</td>\n",
       "      <td>0.0</td>\n",
       "      <td>0.0</td>\n",
       "      <td>0.0</td>\n",
       "      <td>0.0</td>\n",
       "      <td>0.0</td>\n",
       "      <td>0.0</td>\n",
       "      <td>0.0</td>\n",
       "      <td>0.0</td>\n",
       "      <td>0.0</td>\n",
       "    </tr>\n",
       "  </tbody>\n",
       "</table>\n",
       "<p>5 rows × 784 columns</p>\n",
       "</div>"
      ],
      "text/plain": [
       "   pixel1  pixel2  pixel3  pixel4  pixel5  pixel6  pixel7  pixel8  pixel9  \\\n",
       "0     0.0     0.0     0.0     0.0     0.0     0.0     0.0     0.0     0.0   \n",
       "1     0.0     0.0     0.0     0.0     0.0     0.0     0.0     0.0     0.0   \n",
       "2     0.0     0.0     0.0     0.0     0.0     0.0     0.0     0.0     0.0   \n",
       "3     0.0     0.0     0.0     0.0     0.0     0.0     0.0     0.0     0.0   \n",
       "4     0.0     0.0     0.0     0.0     0.0     0.0     0.0     0.0     0.0   \n",
       "\n",
       "   pixel10  ...  pixel775  pixel776  pixel777  pixel778  pixel779  pixel780  \\\n",
       "0      0.0  ...       0.0       0.0       0.0       0.0       0.0       0.0   \n",
       "1      0.0  ...       0.0       0.0       0.0       0.0       0.0       0.0   \n",
       "2      0.0  ...       0.0       0.0       0.0       0.0       0.0       0.0   \n",
       "3      0.0  ...       0.0       0.0       0.0       0.0       0.0       0.0   \n",
       "4      0.0  ...       0.0       0.0       0.0       0.0       0.0       0.0   \n",
       "\n",
       "   pixel781  pixel782  pixel783  pixel784  \n",
       "0       0.0       0.0       0.0       0.0  \n",
       "1       0.0       0.0       0.0       0.0  \n",
       "2       0.0       0.0       0.0       0.0  \n",
       "3       0.0       0.0       0.0       0.0  \n",
       "4       0.0       0.0       0.0       0.0  \n",
       "\n",
       "[5 rows x 784 columns]"
      ]
     },
     "execution_count": 28,
     "metadata": {},
     "output_type": "execute_result"
    }
   ],
   "source": [
    "X.head()"
   ]
  },
  {
   "cell_type": "code",
   "execution_count": 29,
   "metadata": {},
   "outputs": [
    {
     "data": {
      "text/plain": [
       "0    5\n",
       "1    0\n",
       "2    4\n",
       "3    1\n",
       "4    9\n",
       "Name: class, dtype: category\n",
       "Categories (10, object): ['0', '1', '2', '3', ..., '6', '7', '8', '9']"
      ]
     },
     "execution_count": 29,
     "metadata": {},
     "output_type": "execute_result"
    }
   ],
   "source": [
    "y.head()"
   ]
  },
  {
   "cell_type": "code",
   "execution_count": 30,
   "metadata": {},
   "outputs": [
    {
     "data": {
      "image/png": "[encoded data removed]",
      "text/plain": [
       "<Figure size 1080x504 with 10 Axes>"
      ]
     },
     "metadata": {},
     "output_type": "display_data"
    }
   ],
   "source": [
    "fig, axs = plt.subplots(2, 5, figsize=(15, 7))\n",
    "for im_ctr in range(10):\n",
    "    row_ctr = int(im_ctr / 5)\n",
    "    col_ctr = im_ctr % 5\n",
    "    image = np.reshape(np.array(X.iloc[im_ctr, :]), (28, 28))\n",
    "    axs[row_ctr, col_ctr].imshow(image)\n",
    "    axs[row_ctr, col_ctr].set_title(y[im_ctr])    \n",
    "    axs[row_ctr, col_ctr].set_xticks(ticks=[])\n",
    "    axs[row_ctr, col_ctr].set_yticks(ticks=[])"
   ]
  },
  {
   "cell_type": "code",
   "execution_count": 31,
   "metadata": {},
   "outputs": [],
   "source": [
    "def print_cluster_results(X, X_red, y ):\n",
    "    hierarchical_model = AgglomerativeClustering(n_clusters=10)\n",
    "    kmeans_model = KMeans(n_clusters=10)\n",
    "\n",
    "    hierarchical_labels = hierarchical_model.fit_predict(X_red)\n",
    "    kmeans_labels = kmeans_model.fit_predict(X_red)\n",
    "    \n",
    "    hierarchical_centers = np.zeros((hierarchical_model.n_clusters_, X_red.shape[1]))\n",
    "    for k in range(hierarchical_model.n_clusters_):\n",
    "        hierarchical_centers[k, :] = np.mean(X_red[hierarchical_labels==k], axis=0)\n",
    "\n",
    "    plt.figure(2)\n",
    "    draw_centers_of_clusters(hierarchical_centers)\n",
    "    plt.suptitle('Hierarchical', fontweight='bold');\n",
    "    \n",
    "    plt.figure(3)\n",
    "    draw_centers_of_clusters(kmeans_model.cluster_centers_)\n",
    "    plt.suptitle('K-Means', fontweight='bold');\n",
    "    \n",
    "    scores = np.zeros(shape=(2, 2))\n",
    "    scores[0, 0] = silhouette_score(X, hierarchical_labels)\n",
    "    scores[0, 1] = silhouette_score(X, kmeans_labels)\n",
    "    scores[1, 0] = calculate_v_measure(y, hierarchical_labels)\n",
    "    scores[1, 1] = calculate_v_measure(y, kmeans_labels)\n",
    "\n",
    "    pd.DataFrame(data=scores, columns=['Silhouette', 'V-Score'], index=['Hierarchical', 'K-Means'])"
   ]
  },
  {
   "cell_type": "markdown",
   "metadata": {},
   "source": [
    "# No reduction"
   ]
  },
  {
   "cell_type": "code",
   "execution_count": 32,
   "metadata": {},
   "outputs": [],
   "source": [
    "# print_cluster_results(np.array(X), np.array(X), y)"
   ]
  },
  {
   "cell_type": "markdown",
   "metadata": {},
   "source": [
    "# Truncated SVD"
   ]
  },
  {
   "cell_type": "code",
   "execution_count": 33,
   "metadata": {},
   "outputs": [],
   "source": [
    "# tSVD = TruncatedSVD(n_components=2, random_state=42)\n",
    "# X_red = tSVD.fit_transform(X)\n",
    "\n",
    "# print_cluster_results(np.array(X), X_red, y)"
   ]
  },
  {
   "cell_type": "markdown",
   "metadata": {},
   "source": [
    "# tSNE"
   ]
  },
  {
   "cell_type": "code",
   "execution_count": 34,
   "metadata": {},
   "outputs": [],
   "source": [
    "# tSNE = TSNE(n_components=2, random_state=42) #, init='pca', learning_rate='auto'\n",
    "# X_red = tSNE.fit_transform(X)\n",
    "# plt.scatter(x=X_red[:, 0], y=X_red[:, 1], c=y)\n",
    "# plt.xlabel('1st feature')\n",
    "# plt.xlabel('2nd feature')\n",
    "# plt.title('tSNE reduced features')"
   ]
  },
  {
   "cell_type": "code",
   "execution_count": 35,
   "metadata": {},
   "outputs": [],
   "source": [
    "# print_cluster_results(np.array(X), X_red, y)"
   ]
  }
 ],
 "metadata": {
  "kernelspec": {
   "display_name": "Python 3 (ipykernel)",
   "language": "python",
   "name": "python3"
  },
  "language_info": {
   "codemirror_mode": {
    "name": "ipython",
    "version": 3
   },
   "file_extension": ".py",
   "mimetype": "text/x-python",
   "name": "python",
   "nbconvert_exporter": "python",
   "pygments_lexer": "ipython3",
   "version": "3.8.0"
  }
 },
 "nbformat": 4,
 "nbformat_minor": 4
}
